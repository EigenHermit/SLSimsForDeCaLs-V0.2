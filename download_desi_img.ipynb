{
 "cells": [
  {
   "cell_type": "code",
   "execution_count": 11,
   "metadata": {
    "ExecuteTime": {
     "end_time": "2022-01-24T11:49:46.776532Z",
     "start_time": "2022-01-24T11:49:46.774401Z"
    }
   },
   "outputs": [],
   "source": [
    "import os\n",
    "npixel = 37 #about 10 arcsec\n",
    "\n",
    "if not os.path.isdir(\"./stamp\"):\n",
    "    os.system(\"mkdir ./stamp\")\n",
    "\n",
    "if not os.path.isdir(\"./stamp/fits/\"):\n",
    "    os.system(\"mkdir ./stamp/fits/\")\n",
    "    \n",
    "if not os.path.isdir(\"./stamp/png/\"):\n",
    "    os.system(\"mkdir ./stamp/png/\")\n",
    "\n",
    "def DownloadByRaDec_PNG(ra,dec):\n",
    "    save_dir = \"./stamp/png/\"\n",
    "\n",
    "    filename = \"ra_\"+str(ra)+\"_dec_\"+str(dec)+\".png\"\n",
    "\n",
    "    \n",
    "    cmd1 = \"wget -P \" + save_dir + \\\n",
    "    \" 'http://legacysurvey.org/viewer/jpeg-cutout?ra=\"+str(ra)+\"&dec=\"+str(dec)+\"&width=\"+str(npixel)+\"&height=\"+str(npixel)+\"&pixscale=0.27&layer=dr8&bands=grz\\'\"\n",
    "    cmd2 = \"mv \"+ save_dir + \"jpeg-cutout* \" + save_dir + filename\n",
    "\n",
    "    os.system(cmd1)\n",
    "    os.system(cmd2)\n",
    "\n",
    "def DownloadByRaDec_FITS(ra,dec):\n",
    "    save_dir = \"./stamp/fits/\"\n",
    "\n",
    "    filename = \"ra_\"+str(ra)+\"_dec_\"+str(dec)+\".fits\"\n",
    "\n",
    "    \n",
    "    cmd1 = \"wget -P \" + save_dir + \\\n",
    "    \" 'http://legacysurvey.org/viewer/fits-cutout?ra=\"+str(ra)+\"&dec=\"+str(dec)+\"&width=\"+str(npixel)+\"&height=\"+str(npixel)+\"&pixscale=0.27&layer=dr8&bands=grz\\'\"\n",
    "    cmd2 = \"mv \"+ save_dir + \"fits-cutout* \" + save_dir + filename\n",
    "\n",
    "    os.system(cmd1)\n",
    "    os.system(cmd2)"
   ]
  },
  {
   "cell_type": "code",
   "execution_count": null,
   "metadata": {},
   "outputs": [],
   "source": []
  }
 ],
 "metadata": {
  "kernelspec": {
   "display_name": "Python 3",
   "language": "python",
   "name": "python3"
  },
  "language_info": {
   "codemirror_mode": {
    "name": "ipython",
    "version": 3
   },
   "file_extension": ".py",
   "mimetype": "text/x-python",
   "name": "python",
   "nbconvert_exporter": "python",
   "pygments_lexer": "ipython3",
   "version": "3.7.1"
  }
 },
 "nbformat": 4,
 "nbformat_minor": 2
}
