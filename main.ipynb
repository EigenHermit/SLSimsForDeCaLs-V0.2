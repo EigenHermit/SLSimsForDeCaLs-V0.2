{
 "cells": [
  {
   "cell_type": "markdown",
   "metadata": {},
   "source": [
    "# Demostration:\n",
    "\n",
    "### This notebook generates a galaxy-galxy strong lensing system in DECaLS condidtion. It uses a real LRG from DECaLS. The source is sersic simply, and taken from Collect (2015)."
   ]
  },
  {
   "cell_type": "code",
   "execution_count": 1,
   "metadata": {
    "ExecuteTime": {
     "end_time": "2022-01-30T05:29:07.361688Z",
     "start_time": "2022-01-30T05:29:06.632548Z"
    }
   },
   "outputs": [],
   "source": [
    "import cv2\n",
    "import os\n",
    "import random as r\n",
    "import numpy as np\n",
    "import pandas as pd\n",
    "from astropy.io import fits\n",
    "\n",
    "import matplotlib.pyplot as pl\n",
    "import download_desi_img as ddi\n",
    "import scipy.fftpack as fftpack\n",
    "\n",
    "import compose_class as compose_class\n",
    "from scipy.ndimage import gaussian_filter\n",
    "from astropy.cosmology import Planck18 as cosmo"
   ]
  },
  {
   "cell_type": "code",
   "execution_count": 2,
   "metadata": {
    "ExecuteTime": {
     "end_time": "2022-01-30T05:29:07.386713Z",
     "start_time": "2022-01-30T05:29:07.364050Z"
    },
    "code_folding": []
   },
   "outputs": [],
   "source": [
    "##functions\n",
    "\n",
    "def Fluxr2Sigmav(zlens, re_arcsec, flux_r):\n",
    "    \n",
    "    #Use fundamental plane to estimate the velocity disp. of lens galaxy\n",
    "    #Joseph B. Hyde and Mariangela Bernardi\n",
    "    #https://doi.org/10.1111/j.1365-2966.2009.14783.x\n",
    "    \n",
    "    np.random.seed(19960518)\n",
    "    \n",
    "    a_par = 1.4335; b_par = 0.3150; c_par = -8.8979\n",
    "\n",
    "    Dd_angle = cosmo.angular_diameter_distance(zlens).value                     #Mpc\n",
    "\n",
    "    re_rad = (re_arcsec/3600) * np.pi / 180\n",
    "    re_kpc = re_rad * Dd_angle * 1000                                           #kpc\n",
    "\n",
    "    flux_r_corrected = flux_r * 3.97 / 2\n",
    "    m_r_corrected = 22.5 - 2.5 * np.log10(flux_r_corrected)\n",
    "    m_r = 22.5 - 2.5 * np.log10(flux_r)\n",
    "\n",
    "    miu_e = m_r + 5 * np.log10(re_arcsec) + 2.5 * np.log10(2 * np.pi) - 10 * np.log10(1+zlens)\n",
    "    sigma = 10** ((1/a_par) * (np.log10(re_kpc) - b_par * miu_e - c_par)) * 1000 #SI\n",
    "    sigma = sigma * np.random.normal(1, 0.1 , [1, 1])\n",
    "    \n",
    "    return sigma[0][0]/1000 #km/s\n",
    "\n",
    "def MakeCertainFlux(ori,flux):\n",
    "    return ori * (flux/ori.sum())\n",
    "\n",
    "def XYTransform(x, y, x_cen, y_cen, phi):\n",
    "    xnew = (x - x_cen) * np.cos(np.pi * phi / 180.0) + (y - y_cen) * np.sin(np.pi * phi / 180.0)\n",
    "    ynew = -(x - x_cen) * np.sin(np.pi * phi / 180.0) + (y - y_cen) * np.cos(np.pi * phi / 180.0)\n",
    "    return (xnew, ynew)\n",
    "\n",
    "def GetDflAngle(x, y, lpar_local):\n",
    "    \n",
    "    # Calculating the img coordinate in source plane of an SIE mass profile following Kormann 1993\n",
    "    # The convergence has the form of kappa(x, y)=0.5*sqrt(q)*b_sie/sqrt(x^2+q^2*y^2)\n",
    "    # In this form, b_sie is the Einstein radius in the intermediate-axis convention\n",
    "    # lpar[0]: lens einstein radius arcsec\n",
    "    # lpar[1]: lens xcenter\n",
    "    # lpar[2]: lens ycenter\n",
    "    # lpar[3]: position angle in degreef\n",
    "    # lpar[4]: axis ratio\n",
    "    # lpar[3] = lpar[3]-90\n",
    "    \n",
    "    \n",
    "\n",
    "    if lpar_local[4] > 1.0:\n",
    "        lpar_local[4] = 1.0 / lpar_local[4]\n",
    "        lpar_local[3] = lpar_local[3] + 90.0\n",
    "    if lpar_local[3] > 180.0:\n",
    "        lpar_local[3] = lpar_local[3] - 180.0\n",
    "    elif lpar_local[3] < 0.0:\n",
    "        lpar_local[3] = lpar_local[3] + 180.0\n",
    "    (xnew, ynew) = XYTransform(x, y, lpar_local[1], lpar_local[2], lpar_local[3])  # rotational matrix\n",
    "    \n",
    "    \n",
    "\n",
    "    r_sie = np.sqrt(xnew ** 2. + ynew ** 2.)\n",
    "    qfact = np.sqrt((1.0 / lpar_local[4] - lpar_local[4]))\n",
    "    eps = 10. ** (-8)\n",
    "    \n",
    "    if np.abs(qfact) <= eps:  # sie -> sis\n",
    "        alpha_x = xnew / (r_sie + (r_sie == 0))\n",
    "        alpha_y = ynew / (r_sie + (r_sie == 0))\n",
    "    else:\n",
    "        alpha_x = np.arcsinh(np.sqrt(1.0 / lpar_local[4] ** 2.0 - 1.0) * xnew / (r_sie + (r_sie == 0))) / qfact\n",
    "        alpha_y =  np.arcsin(np.sqrt(1.0 - lpar_local[4] ** 2.0) * ynew / (r_sie + (r_sie == 0))) / qfact\n",
    "        \n",
    "    (alpha_x_new, alpha_y_new) = XYTransform(alpha_x, alpha_y, 0.0, 0.0, -lpar_local[3])\n",
    "    return  (lpar_local[0]*alpha_x_new, lpar_local[0]*alpha_y_new)\n",
    "\n",
    "def Sersic(xx,yy,Ie,re,n):\n",
    "    \n",
    "    theta = np.sqrt(xx**2+yy**2)\n",
    "    \n",
    "    bn = 1.9992*n-0.3271\n",
    "    res = Ie*np.exp(-bn*((theta/re)**(1/n)-1))\n",
    "    \n",
    "    return res\n",
    "\n",
    "def ApplyMaxValue(ori,max_value):\n",
    "    scaling_factor = ori.max()/max_value\n",
    "    return ori*(1/scaling_factor)\n",
    "\n",
    "def Mag2Flux(mag):\n",
    "    return 10**((1/2.5)*(22.5-mag))\n",
    "\n",
    "def GetLensedSRCLight(magg_src,magr_src,magz_src,re_src,beta_xx,beta_yy):\n",
    "    \n",
    "    light = Sersic(ptch_sky_xx,ptch_sky_yy,1,re_src,n_src)\n",
    "    light_g = MakeCertainFlux(light,Mag2Flux(magg_src))\n",
    "    light_r = MakeCertainFlux(light,Mag2Flux(magr_src))\n",
    "    light_z = MakeCertainFlux(light,Mag2Flux(magz_src))\n",
    "    \n",
    "    max_value_g = light_g.max()\n",
    "    max_value_r = light_r.max()\n",
    "    max_value_z = light_z.max()\n",
    "    \n",
    "    lnsd_g = ApplyMaxValue(Sersic(beta_xx,beta_yy,1,re_src,n_src),max_value_g)\n",
    "    lnsd_r = ApplyMaxValue(Sersic(beta_xx,beta_yy,1,re_src,n_src),max_value_r)\n",
    "    lnsd_z = ApplyMaxValue(Sersic(beta_xx,beta_yy,1,re_src,n_src),max_value_z)\n",
    "    \n",
    "    magnification = lnsd_g.sum()/light_g.sum()\n",
    "    \n",
    "    return lnsd_g,lnsd_r,lnsd_z,magnification\n",
    "\n",
    "def ColorIMG(light_g,light_r,light_z):\n",
    "    \n",
    "    # function to create a composite png image\n",
    "    \n",
    "    max_g = light_g.max()\n",
    "    max_r = light_r.max()\n",
    "    max_z = light_z.max()\n",
    "    img_rscl = max([max_g, max_r, max_z])\n",
    "    img_thds = 1e-6\n",
    "    img_g_rscl = light_g/img_rscl\n",
    "    img_r_rscl = light_r/img_rscl\n",
    "    img_z_rscl = light_z/img_rscl\n",
    "    img_g_rscl[np.where(img_g_rscl<=img_thds)] = img_thds\n",
    "    img_r_rscl[np.where(img_r_rscl<=img_thds)] = img_thds\n",
    "    img_z_rscl[np.where(img_z_rscl<=img_thds)] = img_thds\n",
    "\n",
    "    scales, offset, Q, alpha, masklevel, saturation, itype = (0.7,1.05,2.5), 0.0, 100, 0.2, -1.0, 'color', 'sum'\n",
    "    object_RGB = compose_class.channel_RGB(RED=img_z_rscl, GREEN=img_r_rscl, BLUE=img_g_rscl)\n",
    "    object_RGB.apply_scale(scales=scales)      \n",
    "    object_RGB.lupton_stretch(Q=Q, alpha=alpha, itype=itype)\n",
    "    object_RGB.pjm_mask(masklevel=masklevel)     \n",
    "    object_RGB.pjm_offset(offset=offset)       \n",
    "    object_RGB.lupton_saturate(saturation=saturation)\n",
    "    object_RGB.pack_up()\n",
    "    \n",
    "    return object_RGB\n",
    "\n",
    "\n",
    "\n",
    "def AddPOI(ideal_image=None,exposure=200):\n",
    "    #add Poisson noise to lensed arcs\n",
    "    \n",
    "    image_with_noise = np.copy(ideal_image)\n",
    "    image_= image_with_noise \n",
    "    counts = image_ * exposure  #ideal mean counts\n",
    "    counts = np.random.poisson(counts, image_.shape) #possion counts base on ideal counts\n",
    "    image_with_noise = counts*1.0/exposure #subtract the skylevel in image. this work can be done in pre-processing step\n",
    "    poisson_noise = np.sqrt(counts)\n",
    "    poisson_noise /= exposure  #-> counts/s\n",
    "    return image_with_noise, poisson_noise\n",
    "\n",
    "def CaculateEinsteinRadius(sigma_v,zd,zs):\n",
    "    \n",
    "    c=2.996e5 #km/s\n",
    "    \n",
    "    Ds_angle  = cosmo.angular_diameter_distance(zs).value         #Mpc\n",
    "    Dds_angle = cosmo.angular_diameter_distance_z1z2(zd,zs).value #Mpc\n",
    "\n",
    "    theta_e = 4 * np.pi * (sigma_v/c)**2 * (Dds_angle/Ds_angle) * (180/np.pi) * 3600\n",
    "    \n",
    "    return (theta_e)\n",
    "    "
   ]
  },
  {
   "cell_type": "code",
   "execution_count": 3,
   "metadata": {
    "ExecuteTime": {
     "end_time": "2022-01-30T05:29:07.400769Z",
     "start_time": "2022-01-30T05:29:07.387881Z"
    }
   },
   "outputs": [],
   "source": [
    "# load in lens catalog\n",
    "\n",
    "cmass_df = pd.read_csv(\"./cmass_bright.csv\")\n",
    "# cmass_df = pd.read_csv(\"./cmass.csv\")\n",
    "pxl_size_real = 0.27\n",
    "\n",
    "# load in source catalog\n",
    "# from: https://github.com/tcollett/LensPop (lense_DESa,b,c merged)\n",
    "source_magi_df = pd.read_csv(\"./source_magi.csv\")"
   ]
  },
  {
   "cell_type": "markdown",
   "metadata": {},
   "source": [
    "# 1. Lens"
   ]
  },
  {
   "cell_type": "markdown",
   "metadata": {},
   "source": [
    "## 1.1 Select a Lens Galaxy"
   ]
  },
  {
   "cell_type": "code",
   "execution_count": 4,
   "metadata": {
    "ExecuteTime": {
     "end_time": "2022-01-30T05:29:08.133296Z",
     "start_time": "2022-01-30T05:29:08.124034Z"
    }
   },
   "outputs": [],
   "source": [
    "#good eg: 1,15 (when load cmass_bright.csv)\n",
    "cmass_idx = 15\n",
    "ra  = cmass_df.iloc[cmass_idx][\"ra_1\"]\n",
    "dec = cmass_df.iloc[cmass_idx][\"dec_1\"]\n",
    "zd  = cmass_df.iloc[cmass_idx][\"redshift\"]\n",
    "lens_name_png  = \"ra_\"+str(ra)+\"_dec_\"+str(dec)+\".png\"\n",
    "lens_name_fits = \"ra_\"+str(ra)+\"_dec_\"+str(dec)+\".fits\""
   ]
  },
  {
   "cell_type": "markdown",
   "metadata": {},
   "source": [
    "## 1.2 Observational Stamp of Lens"
   ]
  },
  {
   "cell_type": "code",
   "execution_count": 5,
   "metadata": {
    "ExecuteTime": {
     "end_time": "2022-01-30T05:29:08.533806Z",
     "start_time": "2022-01-30T05:29:08.527456Z"
    }
   },
   "outputs": [],
   "source": [
    "# download fits and png of the selected lens from Decals Data base\n",
    "\n",
    "if not os.path.isfile(\"./stamp/png/\"+lens_name_png):\n",
    "    ddi.DownloadByRaDec_PNG(ra,dec)\n",
    "if not os.path.isfile(\"./stamp/fits/\"+lens_name_fits):\n",
    "    ddi.DownloadByRaDec_FITS(ra,dec)"
   ]
  },
  {
   "cell_type": "code",
   "execution_count": 6,
   "metadata": {
    "ExecuteTime": {
     "end_time": "2022-01-30T05:29:08.918972Z",
     "start_time": "2022-01-30T05:29:08.795421Z"
    }
   },
   "outputs": [
    {
     "data": {
      "text/plain": [
       "<matplotlib.image.AxesImage at 0x7f594bcabdd8>"
      ]
     },
     "execution_count": 6,
     "metadata": {},
     "output_type": "execute_result"
    },
    {
     "data": {
      "image/png": "[encoded data removed]",
      "text/plain": [
       "<Figure size 432x288 with 1 Axes>"
      ]
     },
     "metadata": {
      "needs_background": "light"
     },
     "output_type": "display_data"
    }
   ],
   "source": [
    "# read out image of the lens\n",
    "\n",
    "lens_fits = fits.open(\"./stamp/fits/\"+lens_name_fits)\n",
    "lens_img = lens_fits[0].data\n",
    "lens_img_g = lens_img[0]\n",
    "lens_img_r = lens_img[1]\n",
    "lens_img_z = lens_img[2]\n",
    "\n",
    "pl.imshow(lens_img_z)"
   ]
  },
  {
   "cell_type": "markdown",
   "metadata": {},
   "source": [
    "## 1.3 Read Lens Catalog"
   ]
  },
  {
   "cell_type": "code",
   "execution_count": 7,
   "metadata": {
    "ExecuteTime": {
     "end_time": "2022-01-30T05:29:09.451547Z",
     "start_time": "2022-01-30T05:29:09.442771Z"
    }
   },
   "outputs": [],
   "source": [
    "# read the ellpticity, P.A.,re, flux and redshift\n",
    "e1_lens = cmass_df.iloc[cmass_idx][\"shapedev_e1\"]\n",
    "e2_lens = cmass_df.iloc[cmass_idx][\"shapedev_e2\"]\n",
    "re_lens = cmass_df.iloc[cmass_idx][\"rg_DEV\"] * pxl_size_real  #is the unit of rg_DEV pixel? need check\n",
    "fluxg_lens = cmass_df.iloc[cmass_idx][\"fluxg\"]\n",
    "fluxr_lens = cmass_df.iloc[cmass_idx][\"fluxr\"]\n",
    "fluxz_lens = cmass_df.iloc[cmass_idx][\"fluxz\"]\n",
    "e_lens  = np.sqrt(e1_lens**2+e2_lens**2)\n",
    "pa_lens = np.rad2deg(0.5*np.arctan2(e2_lens,e1_lens)) #clockwise direction is postive, +Y is zero\n",
    "q_lens  = 1-e_lens\n",
    "\n",
    "lens_img_g = MakeCertainFlux(lens_img_g,fluxg_lens)\n",
    "lens_img_r = MakeCertainFlux(lens_img_r,fluxr_lens)\n",
    "lens_img_z = MakeCertainFlux(lens_img_z,fluxz_lens)"
   ]
  },
  {
   "cell_type": "markdown",
   "metadata": {},
   "source": [
    "## 1.4 Mass Model"
   ]
  },
  {
   "cell_type": "code",
   "execution_count": 8,
   "metadata": {
    "ExecuteTime": {
     "end_time": "2022-01-30T05:29:10.035300Z",
     "start_time": "2022-01-30T05:29:09.998847Z"
    }
   },
   "outputs": [
    {
     "name": "stdout",
     "output_type": "stream",
     "text": [
      "354.9688660517708 64.41240878642655 0.812996151357095 1.3815697500000002 0.18700384864290495\n"
     ]
    }
   ],
   "source": [
    "sgmv = Fluxr2Sigmav(zd,re_lens,fluxr_lens)\n",
    "print(sgmv,pa_lens,q_lens,re_lens,e_lens)"
   ]
  },
  {
   "cell_type": "markdown",
   "metadata": {
    "ExecuteTime": {
     "end_time": "2022-01-30T01:54:23.139481Z",
     "start_time": "2022-01-30T01:54:23.135108Z"
    }
   },
   "source": [
    "# 2. Source"
   ]
  },
  {
   "cell_type": "markdown",
   "metadata": {},
   "source": [
    "## 2.1 Select a Source Galaxy, Read Source Catalog"
   ]
  },
  {
   "cell_type": "code",
   "execution_count": 9,
   "metadata": {
    "ExecuteTime": {
     "end_time": "2022-01-30T05:29:10.896884Z",
     "start_time": "2022-01-30T05:29:10.886875Z"
    }
   },
   "outputs": [],
   "source": [
    "source_idx = 199\n",
    "\n",
    "# SRCS Redshift\n",
    "zs = source_magi_df.iloc[source_idx].redshift\n",
    "\n",
    "# light model\n",
    "n_src    = 1   # index of sersic profile, set according to Collect 2015\n",
    "re_src   = source_magi_df.iloc[source_idx].re # scaling radius of sersic profile\n",
    "magg_src = source_magi_df.iloc[source_idx].g\n",
    "magr_src = source_magi_df.iloc[source_idx].r\n",
    "magz_src = source_magi_df.iloc[source_idx].z\n"
   ]
  },
  {
   "cell_type": "markdown",
   "metadata": {},
   "source": [
    "# 3. Lensed Images"
   ]
  },
  {
   "cell_type": "markdown",
   "metadata": {},
   "source": [
    "## 3.1 Generate Ideal Lensed Image"
   ]
  },
  {
   "cell_type": "code",
   "execution_count": 10,
   "metadata": {
    "ExecuteTime": {
     "end_time": "2022-01-30T05:29:11.723353Z",
     "start_time": "2022-01-30T05:29:11.703861Z"
    }
   },
   "outputs": [],
   "source": [
    "# source positions\n",
    "source_x, source_y = 0.3,0.3 #arcsec,arcsec\n",
    "\n",
    "# Einstein Radius\n",
    "theta_e      = CaculateEinsteinRadius(sgmv,zd,zs)\n",
    "\n",
    "# Lens Parameters to define a SIE profile\n",
    "lpar = np.array([theta_e,source_x,source_y,pa_lens,q_lens]) \n",
    "\n",
    "\n",
    "# generate ideal lensed arcs with ray-tracing method \n",
    "# lensing happens at here\n",
    "# all in arcsec\n",
    "\n",
    "scl = 5\n",
    "xmin = -scl\n",
    "xmax =  scl\n",
    "ymin = -scl\n",
    "ymax =  scl\n",
    "\n",
    "pxl_size = 0.05\n",
    "\n",
    "ptch_sky_xx, ptch_sky_yy = np.mgrid[xmin:xmax+pxl_size:pxl_size, ymin:ymax+pxl_size:pxl_size]\n",
    "ptch_sky_xx[ptch_sky_xx==0] = 1e-8\n",
    "ptch_sky_yy[ptch_sky_yy==0] = 1e-8\n",
    "alpha_xx, alpha_yy = GetDflAngle(ptch_sky_xx, ptch_sky_yy, lpar)\n",
    "\n",
    "beta_xx   = ptch_sky_xx   - alpha_xx\n",
    "beta_yy   = ptch_sky_yy   - alpha_yy\n",
    "\n",
    "light_src_g,light_src_r,light_src_z,magnification = \\\n",
    "GetLensedSRCLight(magg_src,magr_src,magz_src,re_src,beta_xx,beta_yy)"
   ]
  },
  {
   "cell_type": "code",
   "execution_count": 11,
   "metadata": {
    "ExecuteTime": {
     "end_time": "2022-01-30T05:29:12.402871Z",
     "start_time": "2022-01-30T05:29:12.266086Z"
    }
   },
   "outputs": [
    {
     "data": {
      "text/plain": [
       "<matplotlib.image.AxesImage at 0x7f5943712320>"
      ]
     },
     "execution_count": 11,
     "metadata": {},
     "output_type": "execute_result"
    },
    {
     "data": {
      "image/png": "[encoded data removed]",
      "text/plain": [
       "<Figure size 432x288 with 1 Axes>"
      ]
     },
     "metadata": {
      "needs_background": "light"
     },
     "output_type": "display_data"
    }
   ],
   "source": [
    "pl.imshow(light_src_g)"
   ]
  },
  {
   "cell_type": "markdown",
   "metadata": {},
   "source": [
    "## 3.2 PSF & Noise"
   ]
  },
  {
   "cell_type": "code",
   "execution_count": 12,
   "metadata": {
    "ExecuteTime": {
     "end_time": "2022-01-30T05:29:12.947414Z",
     "start_time": "2022-01-30T05:29:12.929286Z"
    }
   },
   "outputs": [],
   "source": [
    "#add psf\n",
    "\n",
    "#PSF scale\n",
    "g_psf_fwhm_decals = 1.26662\n",
    "r_psf_fwhm_decals = 1.13551\n",
    "z_psf_fwhm_decals = 1.11053\n",
    "\n",
    "light_src_g_psf = gaussian_filter(light_src_g, sigma=g_psf_fwhm_decals/pxl_size/2.355)\n",
    "light_src_r_psf = gaussian_filter(light_src_r, sigma=g_psf_fwhm_decals/pxl_size/2.355)\n",
    "light_src_z_psf = gaussian_filter(light_src_z, sigma=g_psf_fwhm_decals/pxl_size/2.355)"
   ]
  },
  {
   "cell_type": "code",
   "execution_count": 13,
   "metadata": {
    "ExecuteTime": {
     "end_time": "2022-01-30T05:29:13.322125Z",
     "start_time": "2022-01-30T05:29:13.134992Z"
    }
   },
   "outputs": [
    {
     "data": {
      "text/plain": [
       "<matplotlib.image.AxesImage at 0x7f594368a748>"
      ]
     },
     "execution_count": 13,
     "metadata": {},
     "output_type": "execute_result"
    },
    {
     "data": {
      "image/png": "[encoded data removed]",
      "text/plain": [
       "<Figure size 432x288 with 1 Axes>"
      ]
     },
     "metadata": {
      "needs_background": "light"
     },
     "output_type": "display_data"
    }
   ],
   "source": [
    "pl.imshow(light_src_g_psf)"
   ]
  },
  {
   "cell_type": "code",
   "execution_count": 14,
   "metadata": {
    "ExecuteTime": {
     "end_time": "2022-01-30T05:29:14.098892Z",
     "start_time": "2022-01-30T05:29:14.087388Z"
    }
   },
   "outputs": [],
   "source": [
    "#rebin the image to match the pixel size of DeCaLs images\n",
    "light_src_g_psf_low = cv2.resize(light_src_g_psf,lens_img_g.shape,interpolation=cv2.INTER_CUBIC)\n",
    "light_src_r_psf_low = cv2.resize(light_src_r_psf,lens_img_r.shape,interpolation=cv2.INTER_CUBIC)\n",
    "light_src_z_psf_low = cv2.resize(light_src_z_psf,lens_img_z.shape,interpolation=cv2.INTER_CUBIC)\n",
    "\n",
    "light_src_g_psf_low[light_src_g_psf_low<0] = 1e-20\n",
    "light_src_r_psf_low[light_src_r_psf_low<0] = 1e-20\n",
    "light_src_z_psf_low[light_src_z_psf_low<0] = 1e-20\n",
    "\n",
    "light_src_g_psf_low = MakeCertainFlux(light_src_g_psf_low,light_src_g.sum())\n",
    "light_src_r_psf_low = MakeCertainFlux(light_src_r_psf_low,light_src_r.sum())\n",
    "light_src_z_psf_low = MakeCertainFlux(light_src_z_psf_low,light_src_z.sum())"
   ]
  },
  {
   "cell_type": "code",
   "execution_count": 15,
   "metadata": {
    "ExecuteTime": {
     "end_time": "2022-01-30T05:29:14.682054Z",
     "start_time": "2022-01-30T05:29:14.506162Z"
    }
   },
   "outputs": [
    {
     "data": {
      "text/plain": [
       "<matplotlib.colorbar.Colorbar at 0x7f59435c7e80>"
      ]
     },
     "execution_count": 15,
     "metadata": {},
     "output_type": "execute_result"
    },
    {
     "data": {
      "image/png": "[encoded data removed]",
      "text/plain": [
       "<Figure size 432x288 with 2 Axes>"
      ]
     },
     "metadata": {
      "needs_background": "light"
     },
     "output_type": "display_data"
    }
   ],
   "source": [
    "pl.imshow(light_src_g_psf_low)\n",
    "pl.colorbar()"
   ]
  },
  {
   "cell_type": "code",
   "execution_count": 16,
   "metadata": {
    "ExecuteTime": {
     "end_time": "2022-01-30T05:29:15.198969Z",
     "start_time": "2022-01-30T05:29:15.023193Z"
    }
   },
   "outputs": [
    {
     "data": {
      "text/plain": [
       "<matplotlib.colorbar.Colorbar at 0x7f5943531710>"
      ]
     },
     "execution_count": 16,
     "metadata": {},
     "output_type": "execute_result"
    },
    {
     "data": {
      "image/png": "[encoded data removed]",
      "text/plain": [
       "<Figure size 432x288 with 2 Axes>"
      ]
     },
     "metadata": {
      "needs_background": "light"
     },
     "output_type": "display_data"
    }
   ],
   "source": [
    "light_src_g_psf_low_poi,t = AddPOI(ideal_image=light_src_g_psf_low,exposure=166)\n",
    "light_src_r_psf_low_poi,_ = AddPOI(ideal_image=light_src_r_psf_low,exposure=134)\n",
    "light_src_z_psf_low_poi,_ = AddPOI(ideal_image=light_src_z_psf_low,exposure=200)\n",
    "pl.imshow(light_src_z_psf_low_poi)\n",
    "pl.colorbar()"
   ]
  },
  {
   "cell_type": "code",
   "execution_count": 17,
   "metadata": {
    "ExecuteTime": {
     "end_time": "2022-01-30T05:29:15.459700Z",
     "start_time": "2022-01-30T05:29:15.454184Z"
    }
   },
   "outputs": [
    {
     "data": {
      "text/plain": [
       "(19.110098465096396, 19.099098260222632)"
      ]
     },
     "execution_count": 17,
     "metadata": {},
     "output_type": "execute_result"
    }
   ],
   "source": [
    "22.5-2.5*np.log10(light_src_g_psf_low.sum()),22.5-2.5*np.log10(light_src_g_psf_low_poi.sum())"
   ]
  },
  {
   "cell_type": "code",
   "execution_count": 18,
   "metadata": {
    "ExecuteTime": {
     "end_time": "2022-01-30T05:29:17.039710Z",
     "start_time": "2022-01-30T05:29:17.034174Z"
    }
   },
   "outputs": [
    {
     "data": {
      "text/plain": [
       "(22.69659007843543, 22.927710843373493)"
      ]
     },
     "execution_count": 18,
     "metadata": {},
     "output_type": "execute_result"
    }
   ],
   "source": [
    "light_src_g_psf_low.sum(),light_src_g_psf_low_poi.sum()"
   ]
  },
  {
   "cell_type": "markdown",
   "metadata": {},
   "source": [
    "# 4. Mock g-g SL system"
   ]
  },
  {
   "cell_type": "code",
   "execution_count": 19,
   "metadata": {
    "ExecuteTime": {
     "end_time": "2022-01-30T05:29:22.823063Z",
     "start_time": "2022-01-30T05:29:22.586078Z"
    },
    "tags": []
   },
   "outputs": [
    {
     "data": {
      "text/plain": [
       "Text(0, 0.5, '$arcsec$')"
      ]
     },
     "execution_count": 19,
     "metadata": {},
     "output_type": "execute_result"
    },
    {
     "data": {
      "image/png": "[encoded data removed]",
      "text/plain": [
       "<Figure size 576x576 with 1 Axes>"
      ]
     },
     "metadata": {
      "needs_background": "light"
     },
     "output_type": "display_data"
    }
   ],
   "source": [
    "## Paste lensed arcs to the lens image\n",
    "\n",
    "mock_g = light_src_g_psf_low_poi + lens_img_g\n",
    "mock_r = light_src_r_psf_low_poi + lens_img_r\n",
    "mock_z = light_src_z_psf_low_poi + lens_img_z\n",
    "\n",
    "# create a composite png image to demonstrate the final output\n",
    "mock_color = ColorIMG(mock_g,mock_r,mock_z)\n",
    "\n",
    "# visualization\n",
    "pl.figure(figsize=(8,8))\n",
    "pl.imshow(mock_color.imgRGB,extent=[-scl,scl,-scl,scl])\n",
    "t=pl.xticks(fontsize=15)\n",
    "t=pl.yticks(fontsize=15)\n",
    "pl.xlabel(\"$arcsec$\",fontsize=20)\n",
    "pl.ylabel(\"$arcsec$\",fontsize=20)"
   ]
  },
  {
   "cell_type": "code",
   "execution_count": 20,
   "metadata": {
    "ExecuteTime": {
     "end_time": "2022-01-30T05:29:23.966277Z",
     "start_time": "2022-01-30T05:29:23.865815Z"
    }
   },
   "outputs": [
    {
     "data": {
      "image/png": "[encoded data removed]",
      "text/plain": [
       "<Figure size 576x576 with 1 Axes>"
      ]
     },
     "metadata": {
      "needs_background": "light"
     },
     "output_type": "display_data"
    }
   ],
   "source": [
    "#save\n",
    "pl.figure(figsize=(8,8))\n",
    "pl.axis(\"off\")\n",
    "pl.imshow(mock_color.imgRGB)\n",
    "\n",
    "if not os.path.exists(\"./mock\"):\n",
    "    os.system(\"mkdir ./mock\")\n",
    "    \n",
    "pl.savefig(\"./mock/demo.png\")"
   ]
  },
  {
   "cell_type": "code",
   "execution_count": 21,
   "metadata": {
    "ExecuteTime": {
     "end_time": "2022-01-30T05:29:25.278198Z",
     "start_time": "2022-01-30T05:29:25.263189Z"
    }
   },
   "outputs": [
    {
     "name": "stdout",
     "output_type": "stream",
     "text": [
      "sgmv of lens: 354.97 km/s\n",
      "magnification: 7.45\n",
      "zd,zs,Einstein radius(arcsec): 0.38 1.17 2.16\n",
      "magi of lens   (g,r,z): 19.86 18.23 17.35\n",
      "magi of source (g,r,z): 21.29 20.98 20.89\n",
      "lensed source fluxr / lens fluxr: 0.59\n"
     ]
    }
   ],
   "source": [
    "# list the parameters of this mock lens\n",
    "\n",
    "print(\"sgmv of lens:\", round(sgmv,2),\"km/s\")\n",
    "print(\"magnification:\",round(magnification,2))\n",
    "print(\"zd,zs,Einstein radius(arcsec):\", round(zd,2),round(zs,2),round(theta_e,2),)\n",
    "print(\"magi of lens   (g,r,z):\",\\\n",
    "      round(cmass_df.iloc[cmass_idx][\"g\"],2),round(cmass_df.iloc[cmass_idx][\"r\"],2),round(cmass_df.iloc[cmass_idx][\"z\"],2))\n",
    "print(\"magi of source (g,r,z):\",magg_src,magr_src,magz_src)\n",
    "print(\"lensed source fluxr / lens fluxr:\",round(light_src_r.sum()/lens_img_r.sum(),2))"
   ]
  },
  {
   "cell_type": "code",
   "execution_count": null,
   "metadata": {},
   "outputs": [],
   "source": []
  }
 ],
 "metadata": {
  "kernelspec": {
   "display_name": "Python 3",
   "language": "python",
   "name": "python3"
  },
  "language_info": {
   "codemirror_mode": {
    "name": "ipython",
    "version": 3
   },
   "file_extension": ".py",
   "mimetype": "text/x-python",
   "name": "python",
   "nbconvert_exporter": "python",
   "pygments_lexer": "ipython3",
   "version": "3.7.1"
  }
 },
 "nbformat": 4,
 "nbformat_minor": 4
}
